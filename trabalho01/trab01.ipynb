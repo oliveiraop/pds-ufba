{
 "cells": [
  {
   "cell_type": "markdown",
   "metadata": {},
   "source": [
    "# Avaliação 08 - Implementação de Filtros Digitais\n",
    "\n",
    "---\n",
    "\n",
    "### Projeto 2: Butterworth por Transformação Bilinear\n",
    "\n",
    "ENGC63 - 2021.2\n",
    "\n",
    "João Carneiro e Osmar Oliveira"
   ]
  },
  {
   "cell_type": "markdown",
   "metadata": {},
   "source": [
    "# Trabalho de Processamento Digital de Sinais (ENGC63)\n",
    "\n",
    "\n",
    "- Projete, a partir de um filtro passa-baixas Butterworth de sexta ordem, um filtro discreto passa-baixas com frequência de corte (-3dB) igual ω c = 2π/3, usando o método da invariância da resposta\n",
    "impulsiva (**Projeto1**) ou usando o método de transformação bilinear (**Projeto2**) \n",
    "\n",
    "- Faça a implementação sob forma direta e sob forma em cascata. \n",
    "\n",
    "- Represente os coeficientes em ponto flutuante (ex.: 0, 00423578 = 0, 423578 × 10 − 2 ) e vá diminuindo o número de casas decimais após a vı́rgula nas formas direta e em cascata para verificar a sensibilidade à quantização de parâmetros. \n",
    "\n",
    "- Trace a curva do módulo da resposta em freqência em dB para os casos de precisão infinita e precisão finita. \n",
    "Em seguida, para a representação em forma direta, refaça os filtros com as 3 transformações em frequência a seguir (Z − 1 = −z − 1 ; Z − 1 = z − 2 e Z − 1 = −z − 2 ) e trace a curva do módulo em dB da resposta em frequência resultante. \n",
    "\n",
    "- Use os seus filtros para processar um sinal de áudio de sua preferência, ouça os resultados e os avalie perceptualmente. Avalie, também, o espectro em função do tempo, do sinal de entrada e de saída utilizando um espectrograma.\n"
   ]
  },
  {
   "cell_type": "markdown",
   "metadata": {},
   "source": [
    "## Imports"
   ]
  },
  {
   "cell_type": "code",
   "execution_count": 228,
   "metadata": {},
   "outputs": [],
   "source": [
    "import numpy as np\n",
    "from scipy import signal, fft\n",
    "import matplotlib.pyplot as plt\n",
    "import math\n",
    "from IPython.display import display, Math"
   ]
  },
  {
   "cell_type": "markdown",
   "metadata": {},
   "source": [
    "## Funções Auxiliares"
   ]
  },
  {
   "cell_type": "code",
   "execution_count": 243,
   "metadata": {},
   "outputs": [
    {
     "data": {
      "text/latex": [
       "$\\displaystyle 0.1266485216936955 \\times 10^{-11}$"
      ],
      "text/plain": [
       "<IPython.core.display.Math object>"
      ]
     },
     "metadata": {},
     "output_type": "display_data"
    }
   ],
   "source": [
    "def to_string(number):\n",
    "    exp = np.floor(np.log10(np.abs(number))).astype(int)\n",
    "    num = number * 10.0**(-exp - 1)\n",
    "    return r\"{0} \\times 10^{{{1}}}\".format(num, exp+1)\n",
    "\n",
    "num = 1.266485216936955e-12\n",
    "num = round(num, 12+16)\n",
    "display(Math(to_string(num)))"
   ]
  },
  {
   "cell_type": "markdown",
   "metadata": {},
   "source": [
    "## Filtro Discreto Passa-Baixas\n",
    "\n",
    "Transformação bilinear de um filtro Butterworth"
   ]
  },
  {
   "cell_type": "code",
   "execution_count": 240,
   "metadata": {},
   "outputs": [
    {
     "data": {
      "image/png": "[encoded data removed]",
      "text/plain": [
       "<Figure size 432x288 with 1 Axes>"
      ]
     },
     "metadata": {
      "needs_background": "light"
     },
     "output_type": "display_data"
    },
    {
     "data": {
      "image/png": "[encoded data removed]",
      "text/plain": [
       "<Figure size 432x288 with 1 Axes>"
      ]
     },
     "metadata": {
      "needs_background": "light"
     },
     "output_type": "display_data"
    }
   ],
   "source": [
    "ordem = 6       # Ordem do Butterworth\n",
    "Wc = 2*np.pi/3  # Freq de corte\n",
    "\n",
    "\n",
    "# Cria filtros Butterworth:\n",
    "\n",
    "# Saída TF para a Forma Direta\n",
    "filts_tf = signal.lti(*signal.butter(ordem, Wc, btype='lowpass', analog=True, output='ba'))\n",
    "# Saída ZPK para a Forma em Cascata\n",
    "filts_zpk = signal.lti(*signal.butter(ordem, Wc, btype='lowpass', analog=True, output='zpk'))\n",
    "\n",
    "\n",
    "# Converte Butterworth por Transformação Linear:\n",
    "\n",
    "# Saída TF para a Forma Direta\n",
    "filtz_tf = signal.dlti(*signal.bilinear(filts_tf.num, filts_tf.den))\n",
    "# Saída ZPK para a Forma em Cascata\n",
    "filtz_zpk = signal.dlti(*signal.bilinear_zpk(filts_zpk.zeros, filts_zpk.poles, filts_zpk.gain, fs=1))\n",
    "\n",
    "# Calcula resposta em frequência\n",
    "wz, hz = signal.freqz(filtz_tf.num, filtz_tf.den)\n",
    "wz2, hz2 = signal.freqz_zpk(filtz_zpk.zeros, filtz_zpk.poles, filtz_zpk.gain)\n",
    "\n",
    "# Plota resposta em frequência do filtro resultante\n",
    "plt.semilogx(wz*1/(2*np.pi), 20*np.log10(np.abs(hz).clip(1e-15)),label=r'$|H_z(e^{j \\omega})|$')\n",
    "plt.legend()\n",
    "plt.xlabel('Frequency [Hz]')\n",
    "plt.ylabel('Magnitude [dB]')\n",
    "plt.grid()\n",
    "plt.show()\n",
    "\n",
    "plt.figure(2)\n",
    "plt.semilogx(wz2*1/(2*np.pi), 20*np.log10(np.abs(hz2).clip(1e-15)),label=r'$|H_z(e^{j \\omega})|$')\n",
    "plt.legend()\n",
    "plt.xlabel('Frequency [Hz]')\n",
    "plt.ylabel('Magnitude [dB]')\n",
    "plt.grid()\n",
    "plt.show()\n",
    "\n"
   ]
  },
  {
   "cell_type": "markdown",
   "metadata": {},
   "source": [
    "## Função para Forma Direta I"
   ]
  },
  {
   "cell_type": "code",
   "execution_count": null,
   "metadata": {},
   "outputs": [],
   "source": [
    "# Encontra saída pela Forma Direta I\n",
    "def direct_i(x, b, a):\n",
    "    input_size = len(x)\n",
    "    M = len(b) - 1\n",
    "    N = len(a) - 1\n",
    "\n",
    "    y = np.empty(input_size)\n",
    "\n",
    "    # Função para retornar 0 em caso de índice inválido\n",
    "    def get_value(list, index):\n",
    "        try:\n",
    "            return list[index]\n",
    "        except:\n",
    "            return 0\n",
    "\n",
    "    # Percorre por toda entrada\n",
    "    for n in in range(input_size):\n",
    "        # Somatórios resultantes da Forma Direta I\n",
    "        for i in range(M+1):\n",
    "            y[n] += b[i] * get_value(x, n - 1)\n",
    "        for j in range(1, N+1):\n",
    "            y[n] -= a[j] * get_value(y, n - j)\n",
    "    \n",
    "    return y"
   ]
  },
  {
   "cell_type": "markdown",
   "metadata": {},
   "source": [
    "## Função para Forma em Cascata"
   ]
  },
  {
   "cell_type": "code",
   "execution_count": 246,
   "metadata": {},
   "outputs": [],
   "source": [
    "# Encontra saída pela Forma em Cascata\n",
    "def cascade(x, z, p, k):\n",
    "\n",
    "    # Cria filtros para cada Pólo\n",
    "    filterList = []\n",
    "    for i in p:\n",
    "        filterList.append(signal.ZerosPolesGain(0, [i], 1))\n",
    "\n",
    "    # Cria filtro para cada Zero\n",
    "    for i in z:\n",
    "        filterList.append(signal.ZerosPolesGain([i], 0, 1))\n",
    "\n",
    "\n",
    "    x = np.array([1, 0, 1, 0, 1, 0]) # colocar sinal de entrada aqui\n",
    "    for i in filterList:\n",
    "        tout, yout, x = i.output(x, [1, 2, 3, 4, 5, 6])\n",
    "    plt.figure(2)\n",
    "    plt.plot(x)\n",
    "    return x*k\n"
   ]
  },
  {
   "cell_type": "markdown",
   "metadata": {},
   "source": [
    "## "
   ]
  },
  {
   "cell_type": "markdown",
   "metadata": {},
   "source": [
    "# Transformação $Z^{-1} = -z^{-1}$##"
   ]
  },
  {
   "cell_type": "code",
   "execution_count": 258,
   "metadata": {},
   "outputs": [
    {
     "name": "stdout",
     "output_type": "stream",
     "text": [
      "(array([ 1, -1, -2, -3]), array([-1, -2, -3, -4]), 5)\n"
     ]
    }
   ],
   "source": [
    "def first_transf(z, p, k):\n",
    "    z = z*-1\n",
    "    p = p*-1\n",
    "\n",
    "    return z, p, k\n"
   ]
  },
  {
   "cell_type": "markdown",
   "metadata": {},
   "source": [
    "# Transformação $Z^{-1} = z^{-2}$#"
   ]
  },
  {
   "cell_type": "code",
   "execution_count": null,
   "metadata": {},
   "outputs": [],
   "source": []
  },
  {
   "cell_type": "markdown",
   "metadata": {},
   "source": [
    "# Transformação $Z^{-1} = -z^{-2}$#"
   ]
  },
  {
   "cell_type": "code",
   "execution_count": null,
   "metadata": {},
   "outputs": [],
   "source": []
  }
 ],
 "metadata": {
  "interpreter": {
   "hash": "aee8b7b246df8f9039afb4144a1f6fd8d2ca17a180786b69acc140d282b71a49"
  },
  "kernelspec": {
   "display_name": "Python 3.8.9 64-bit",
   "name": "python3"
  },
  "language_info": {
   "codemirror_mode": {
    "name": "ipython",
    "version": 3
   },
   "file_extension": ".py",
   "mimetype": "text/x-python",
   "name": "python",
   "nbconvert_exporter": "python",
   "pygments_lexer": "ipython3",
   "version": "3.8.9"
  },
  "orig_nbformat": 4
 },
 "nbformat": 4,
 "nbformat_minor": 2
}
