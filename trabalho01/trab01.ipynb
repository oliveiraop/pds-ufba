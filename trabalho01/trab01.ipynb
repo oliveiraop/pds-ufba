{
 "cells": [
  {
   "cell_type": "markdown",
   "metadata": {},
   "source": [
    "# Avaliação 08 - Implementação de Filtros Digitais\n",
    "\n",
    "---\n",
    "\n",
    "### Projeto 2: Butterworth por Transformação Bilinear\n",
    "\n",
    "ENGC63 - 2021.2\n",
    "\n",
    "João Carneiro e Osmar Oliveira"
   ]
  },
  {
   "cell_type": "markdown",
   "metadata": {},
   "source": [
    "# Trabalho de Processamento Digital de Sinais (ENGC63)\n",
    "\n",
    "\n",
    "- Projete, a partir de um filtro passa-baixas Butterworth de sexta ordem, um filtro discreto passa-baixas com frequência de corte (-3dB) igual ω c = 2π/3, usando o método da invariância da resposta\n",
    "impulsiva (**Projeto1**) ou usando o método de transformação bilinear (**Projeto2**) \n",
    "\n",
    "- Faça a implementação sob forma direta e sob forma em cascata. \n",
    "\n",
    "- Represente os coeficientes em ponto flutuante (ex.: 0, 00423578 = 0, 423578 × 10 − 2 ) e vá diminuindo o número de casas decimais após a vı́rgula nas formas direta e em cascata para verificar a sensibilidade à quantização de parâmetros. \n",
    "\n",
    "- Trace a curva do módulo da resposta em freqência em dB para os casos de precisão infinita e precisão finita. \n",
    "Em seguida, para a representação em forma direta, refaça os filtros com as 3 transformações em frequência a seguir (Z − 1 = −z − 1 ; Z − 1 = z − 2 e Z − 1 = −z − 2 ) e trace a curva do módulo em dB da resposta em frequência resultante. \n",
    "\n",
    "- Use os seus filtros para processar um sinal de áudio de sua preferência, ouça os resultados e os avalie perceptualmente. Avalie, também, o espectro em função do tempo, do sinal de entrada e de saída utilizando um espectrograma.\n"
   ]
  },
  {
   "cell_type": "markdown",
   "metadata": {},
   "source": [
    "## Imports"
   ]
  },
  {
   "cell_type": "code",
   "execution_count": null,
   "metadata": {},
   "outputs": [],
   "source": [
    "import numpy as np\n",
    "from scipy import signal, fft\n",
    "import matplotlib.pyplot as plt\n",
    "import math\n",
    "from IPython.display import display, Math"
   ]
  },
  {
   "cell_type": "markdown",
   "metadata": {},
   "source": [
    "## Funções Auxiliares"
   ]
  },
  {
   "cell_type": "code",
   "execution_count": null,
   "metadata": {},
   "outputs": [],
   "source": [
    "def print_scientific(number):\n",
    "    exp = np.floor(np.log10(np.abs(number))).astype(int)\n",
    "    num = number * 10.0**(-exp - 1)\n",
    "    display(Math(r\"{0} \\times 10^{{{1}}}\".format(num, exp+1)))\n",
    "\n",
    "def reduce_precision(num, precision):\n",
    "    exp = np.floor(np.log10(np.abs(num))).astype(int)\n",
    "    num = round(num, exp+precision)\n",
    "    return num"
   ]
  },
  {
   "cell_type": "markdown",
   "metadata": {},
   "source": [
    "## Filtro Discreto Passa-Baixas\n",
    "\n",
    "Transformação bilinear de um filtro Butterworth"
   ]
  },
  {
   "cell_type": "code",
   "execution_count": null,
   "metadata": {},
   "outputs": [],
   "source": [
    "ordem = 6       # Ordem do Butterworth\n",
    "Wc = 2*np.pi/3  # Freq de corte\n",
    "\n",
    "# Cria filtros Butterworth:\n",
    "\n",
    "# Saída TF para a Forma Direta\n",
    "filts_tf = signal.lti(*signal.butter(ordem, Wc, btype='lowpass', analog=True, output='ba'))\n",
    "# Saída ZPK para a Forma em Cascata\n",
    "filts_zpk = signal.lti(*signal.butter(ordem, Wc, btype='lowpass', analog=True, output='zpk'))\n",
    "\n",
    "# Converte Butterworth por Transformação Linear:\n",
    "\n",
    "# Saída TF para a Forma Direta\n",
    "filtz_tf = signal.dlti(*signal.bilinear(filts_tf.num, filts_tf.den))\n",
    "# Saída ZPK para a Forma em Cascata\n",
    "filtz_zpk = signal.dlti(*signal.bilinear_zpk(filts_zpk.zeros, filts_zpk.poles, filts_zpk.gain, fs=1.0))\n",
    "\n",
    "\n",
    "# Calcula resposta em frequência\n",
    "wz, hz = signal.freqz(filtz_tf.num, filtz_tf.den)\n",
    "\n",
    "# Plota resposta em frequência do filtro resultante\n",
    "plt.semilogx(wz*1/(2*np.pi), 20*np.log10(np.abs(hz).clip(1e-15)),label=r'$|H_z(e^{j \\omega})|$')\n",
    "plt.legend()\n",
    "plt.title('Precisão infinita')\n",
    "plt.xlabel('Frequency [Hz]')\n",
    "plt.ylabel('Magnitude [dB]')\n",
    "plt.grid()\n",
    "plt.show()\n",
    "\n",
    "filtz2 = filtz_tf\n",
    "\n",
    "for i, val in enumerate(filtz2.num):\n",
    "    filtz2.num[i] = reduce_precision(val, 10)\n",
    "for i, val in enumerate(filtz2.den):\n",
    "    filtz2.den[i] = reduce_precision(val, 10)\n",
    "\n",
    "wz, hz = signal.freqz(filtz2.num, filtz2.den)\n",
    "\n",
    "plt.figure()\n",
    "plt.semilogx(wz*1/(2*np.pi), 20*np.log10(np.abs(hz).clip(1e-15)),label=r'$|H_z(e^{j \\omega})|$')\n",
    "plt.legend()\n",
    "plt.title('Precisão Finita 10 casas decimais')\n",
    "plt.xlabel('Frequency [Hz]')\n",
    "plt.ylabel('Magnitude [dB]')\n",
    "plt.grid()\n",
    "plt.show()\n",
    "\n",
    "for i, val in enumerate(filtz2.num):\n",
    "    filtz2.num[i] = reduce_precision(val, 5)\n",
    "for i, val in enumerate(filtz2.den):\n",
    "    filtz2.den[i] = reduce_precision(val, 5)\n",
    "\n",
    "wz, hz = signal.freqz(filtz2.num, filtz2.den)\n",
    "\n",
    "plt.figure()\n",
    "plt.semilogx(wz*1/(2*np.pi), 20*np.log10(np.abs(hz).clip(1e-15)),label=r'$|H_z(e^{j \\omega})|$')\n",
    "plt.legend()\n",
    "plt.title('Precisão Finita 5 casas decimais')\n",
    "plt.xlabel('Frequency [Hz]')\n",
    "plt.ylabel('Magnitude [dB]')\n",
    "plt.grid()\n",
    "plt.show()"
   ]
  },
  {
   "cell_type": "markdown",
   "metadata": {},
   "source": [
    "## Função para Forma Direta I"
   ]
  },
  {
   "cell_type": "code",
   "execution_count": null,
   "metadata": {},
   "outputs": [],
   "source": [
    "# Encontra saída pela Forma Direta I\n",
    "def direct_i(x, filtz_tf):\n",
    "    input_size = len(x)\n",
    "\n",
    "    b = filtz_tf.num\n",
    "    a = filtz_tf.den\n",
    "\n",
    "    M = len(b) - 1\n",
    "    N = len(a) - 1\n",
    "\n",
    "    y = np.empty(input_size)\n",
    "\n",
    "    # Função para retornar 0 em caso de índice inválido\n",
    "    def get_value(list, index):\n",
    "        try:\n",
    "            return list[index]\n",
    "        except:\n",
    "            return 0\n",
    "\n",
    "    # Percorre por toda entrada\n",
    "    for n in range(input_size):\n",
    "        # Somatórios resultantes da Forma Direta I\n",
    "        for i in range(M+1):\n",
    "            y[n] += b[i] * get_value(x, n - 1)\n",
    "        for j in range(1, N+1):\n",
    "            y[n] -= a[j] * get_value(y, n - j)\n",
    "    \n",
    "    return y\n",
    "x = np.array([9, 5, 3, 8, 9])\n",
    "t = np.array([0, 1, 2, 3, 4])\n",
    "print(direct_i(x, filtz_tf))"
   ]
  },
  {
   "cell_type": "markdown",
   "metadata": {},
   "source": [
    "## Função para Forma em Cascata"
   ]
  },
  {
   "cell_type": "code",
   "execution_count": null,
   "metadata": {},
   "outputs": [],
   "source": [
    "# Encontra saída pela Forma em Cascata\n",
    "def cascade(x, filtz_zpk):\n",
    "    z = filtz_zpk.zeros\n",
    "    p = filtz_zpk.poles\n",
    "    k = filtz_zpk.gain\n",
    "    \n",
    "    # Converte ZPK para SOS (seções de 2a ordem)\n",
    "    sos = signal.zpk2sos(z, p, k)\n",
    "\n",
    "    # Filtra entrada pela sequência em cascata das funções\n",
    "    y = signal.sosfilt(sos, x)\n",
    "\n",
    "    return y\n",
    "\n",
    "x = np.array([9, 5, 3, 8, 9])\n",
    "print(cascade(x filtz_zpk))"
   ]
  },
  {
   "cell_type": "markdown",
   "metadata": {},
   "source": [
    "## "
   ]
  },
  {
   "cell_type": "markdown",
   "metadata": {},
   "source": [
    "# Transformação $Z^{-1} = -z^{-1}$"
   ]
  },
  {
   "cell_type": "code",
   "execution_count": null,
   "metadata": {},
   "outputs": [],
   "source": [
    "def first_transf_zpk(z, p, k):\n",
    "    z = -z\n",
    "    p = -p\n",
    "\n",
    "    return z, p, k\n",
    "\n",
    "def first_transf_tf(b, a):\n",
    "    b1 = b\n",
    "    a1 = a\n",
    "    for idx, val in enumerate(b1):\n",
    "        if idx % 2 == b1.shape[0] % 2:\n",
    "            b1[idx] = -val\n",
    "    for idx, val in enumerate(a1):\n",
    "        if idx % 2 == a1.shape[0] % 2:\n",
    "            a1[idx] = -val\n",
    "    return b1, a1\n",
    "\n",
    "filts_tf = signal.lti(*signal.butter(ordem, Wc, btype='lowpass', analog=True, output='ba'))\n",
    "filtz_tf = signal.dlti(*signal.bilinear(filts_tf.num, filts_tf.den))\n",
    "\n",
    "print(filtz_tf)\n",
    "filtz_ft = signal.dlti(*first_transf_tf(filtz_tf.num, filtz_tf.den))\n",
    "\n",
    "wz, hz = signal.freqz(filtz_ft.num, filtz_ft.den)\n",
    "\n",
    "plt.semilogx(wz*1/(2*np.pi), 20*np.log10(np.abs(hz).clip(1e-15)),label=r'$|H_z(e^{j \\omega})|$')\n",
    "plt.legend()\n",
    "plt.title(r'$ Z^{-1} = -z^{-1} $')\n",
    "plt.xlabel('Frequency [Hz]')\n",
    "plt.ylabel('Magnitude [dB]')\n",
    "plt.grid()\n",
    "plt.show()"
   ]
  },
  {
   "cell_type": "markdown",
   "metadata": {},
   "source": [
    "# Transformação $Z^{-1} = z^{-2}$"
   ]
  },
  {
   "cell_type": "code",
   "execution_count": 134,
   "metadata": {},
   "outputs": [
    {
     "data": {
      "image/png": "[encoded data removed]",
      "text/plain": [
       "<Figure size 432x288 with 1 Axes>"
      ]
     },
     "metadata": {
      "needs_background": "light"
     },
     "output_type": "display_data"
    }
   ],
   "source": [
    "def second_transf_zpk(z, p, k):\n",
    "    z = np.sqrt(z)\n",
    "    z = np.concatenate([z, -z])\n",
    "\n",
    "    p = np.sqrt(p)\n",
    "    p = np.concatenate([p, -p])\n",
    "\n",
    "    return z, p, k\n",
    "\n",
    "def second_transf_tf(b, a):\n",
    "    newList = []\n",
    "    for idx, val in enumerate(b):\n",
    "        newList.append(val)\n",
    "        newList.append(0)\n",
    "    b1 = np.array(newList[:-1])\n",
    "    newList = []\n",
    "    for idx, val in enumerate(a):\n",
    "        newList.append(val)\n",
    "        newList.append(0)\n",
    "    a1 = np.array(newList[:-1])\n",
    "\n",
    "    return b1, a1\n",
    "\n",
    "filts_tf = signal.lti(*signal.butter(ordem, Wc, btype='lowpass', analog=True, output='ba'))\n",
    "filtz_tf = signal.dlti(*signal.bilinear(filts_tf.num, filts_tf.den))\n",
    "\n",
    "\n",
    "filtz_ft =  signal.dlti(*second_transf_tf(filtz_tf.num, filtz_tf.den))\n",
    "\n",
    "\n",
    "wz, hz = signal.freqz(filtz_ft.num, filtz_ft.den)\n",
    "\n",
    "plt.semilogx(wz*1/(2*np.pi), 20*np.log10(np.abs(hz).clip(1e-15)),label=r'$|H_z(e^{j \\omega})|$')\n",
    "plt.legend()\n",
    "plt.title(r'$Z^{-1} = z^{-2}$')\n",
    "plt.xlabel('Frequency [Hz]')\n",
    "plt.ylabel('Magnitude [dB]')\n",
    "plt.grid()\n",
    "plt.show()"
   ]
  },
  {
   "cell_type": "markdown",
   "metadata": {},
   "source": [
    "# Transformação $Z^{-1} = -z^{-2}$"
   ]
  },
  {
   "cell_type": "code",
   "execution_count": 136,
   "metadata": {},
   "outputs": [
    {
     "data": {
      "image/png": "[encoded data removed]",
      "text/plain": [
       "<Figure size 432x288 with 1 Axes>"
      ]
     },
     "metadata": {
      "needs_background": "light"
     },
     "output_type": "display_data"
    }
   ],
   "source": [
    "def third_transf_zpk(z, p, k):\n",
    "    z = np.sqrt(-z)\n",
    "    z = np.concatenate([z, -z])\n",
    "\n",
    "    p = np.sqrt(-p)\n",
    "    p = np.concatenate([p, -p])\n",
    "\n",
    "    return z, p, k\n",
    "\n",
    "def third_transf_tf(b, a):\n",
    "    b_1, a_1 = first_transf_tf(b, a)\n",
    "    b_2, a_2 = second_transf_tf(b_1, a_1)\n",
    "    return b_2, a_2\n",
    "\n",
    "\n",
    "filts_tf = signal.lti(*signal.butter(ordem, Wc, btype='lowpass', analog=True, output='ba'))\n",
    "filtz_tf = signal.dlti(*signal.bilinear(filts_tf.num, filts_tf.den))\n",
    "\n",
    "filtz_ft = signal.dlti(*third_transf_tf(filtz_tf.num, filtz_tf.den))\n",
    "\n",
    "wz, hz = signal.freqz(filtz_ft.num, filtz_ft.den)\n",
    "\n",
    "plt.semilogx(wz*1/(2*np.pi), 20*np.log10(np.abs(hz).clip(1e-15)),label=r'$|H_z(e^{j \\omega})|$')\n",
    "plt.legend()\n",
    "plt.title(r'$Z^{-1} = -z^{-2}$')\n",
    "plt.xlabel('Frequency [Hz]')\n",
    "plt.ylabel('Magnitude [dB]')\n",
    "plt.grid()\n",
    "plt.show()\n"
   ]
  },
  {
   "cell_type": "code",
   "execution_count": null,
   "metadata": {},
   "outputs": [],
   "source": [
    "import wave\n",
    "\n",
    "wf = wave.open('Explosion-1.wav')\n",
    "channels = wf.getnchannels()\n",
    "sampwidth = wf.getsampwidth()\n",
    "framerate = wf.getframerate()\n",
    "nframes = wf.getnframes()\n",
    "frames = wf.readframes(441000)\n",
    "\n",
    "out = np.frombuffer(frames, dtype=np.uint16)\n",
    "\n",
    "newFrames = out.tobytes()\n",
    "\n",
    "wfo = wave.open('exit.wav', 'wb')\n",
    "wfo.setnchannels(channels)\n",
    "wfo.setsampwidth(sampwidth)\n",
    "wfo.setframerate(framerate)\n",
    "wfo.writeframes(newFrames)"
   ]
  },
  {
   "cell_type": "code",
   "execution_count": null,
   "metadata": {},
   "outputs": [],
   "source": []
  }
 ],
 "metadata": {
  "interpreter": {
   "hash": "aee8b7b246df8f9039afb4144a1f6fd8d2ca17a180786b69acc140d282b71a49"
  },
  "kernelspec": {
   "display_name": "Python 3.8.9 64-bit",
   "name": "python3"
  },
  "language_info": {
   "codemirror_mode": {
    "name": "ipython",
    "version": 3
   },
   "file_extension": ".py",
   "mimetype": "text/x-python",
   "name": "python",
   "nbconvert_exporter": "python",
   "pygments_lexer": "ipython3",
   "version": "3.8.9"
  },
  "orig_nbformat": 4
 },
 "nbformat": 4,
 "nbformat_minor": 2
}
