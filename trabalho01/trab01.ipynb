{
 "cells": [
  {
   "cell_type": "markdown",
   "metadata": {},
   "source": [
    "# Trabalho de Processamento Digital de Sinais (ENGC63)\n",
    "\n",
    "\n",
    "- Projete, a partir de um filtro passa-baixas Butterworth de sexta ordem, um filtro discreto passa-baixas com frequência de corte (-3dB) igual ω c = 2π/3, usando o método da invariância da resposta\n",
    "impulsiva (**Projeto1**) ou usando o método de transformação bilinear (**Projeto2**) \n",
    "\n",
    "- Faça a implementação sob forma direta e sob forma em cascata. \n",
    "\n",
    "- Represente os coeficientes em ponto flutuante (ex.: 0, 00423578 = 0, 423578 × 10 − 2 ) e vá diminuindo o número de casas decimais após a vı́rgula nas formas direta e em cascata para verificar a sensibilidade à quantização de parâmetros. \n",
    "\n",
    "- Trace a curva do módulo da resposta em freqência em dB para os casos de precisão infinita e precisão finita. \n",
    "Em seguida, para a representação em forma direta, refaça os filtros com as 3 transformações em frequência a seguir (Z − 1 = −z − 1 ; Z − 1 = z − 2 e Z − 1 = −z − 2 ) e trace a curva do módulo em dB da resposta em frequência resultante. \n",
    "\n",
    "- Use os seus filtros para processar um sinal de áudio de sua preferência, ouça os resultados e os avalie perceptualmente. Avalie, também, o espectro em função do tempo, do sinal de entrada e de saída utilizando um espectrograma.\n"
   ]
  },
  {
   "cell_type": "code",
   "execution_count": 141,
   "metadata": {},
   "outputs": [],
   "source": [
    "### IMPORTS ###\n",
    "import numpy as np\n",
    "from scipy import signal, fft\n",
    "import matplotlib.pyplot as plt\n",
    "import math\n",
    "from IPython.display import display, Math"
   ]
  },
  {
   "cell_type": "code",
   "execution_count": 160,
   "metadata": {},
   "outputs": [
    {
     "data": {
      "text/latex": [
       "$\\displaystyle 0.1266485216936955 \\times 10^{-11}$"
      ],
      "text/plain": [
       "<IPython.core.display.Math object>"
      ]
     },
     "metadata": {},
     "output_type": "display_data"
    }
   ],
   "source": [
    "def to_string(number):\n",
    "    exp = np.floor(np.log10(np.abs(number))).astype(int)\n",
    "    num = number * 10.0**(-exp - 1)\n",
    "    return r\"{0} \\times 10^{{{1}}}\".format(num, exp+1)\n",
    "    \n",
    "\n",
    "\n",
    "num = 1.266485216936955e-12\n",
    "num = round(num, 12+16)\n",
    "display(Math(to_string(num)))"
   ]
  },
  {
   "cell_type": "code",
   "execution_count": 174,
   "metadata": {},
   "outputs": [
    {
     "name": "stdout",
     "output_type": "stream",
     "text": [
      "TransferFunctionContinuous(\n",
      "array([84.40179477]),\n",
      "array([  1.        ,   8.09212128,  32.7412134 ,  83.98447537,\n",
      "       143.61903283, 155.70294881,  84.40179477]),\n",
      "dt: None\n",
      ")\n",
      "TransferFunctionDiscrete(\n",
      "array([1.26648522e-12, 7.59891130e-12, 1.89972783e-11, 2.53297043e-11,\n",
      "       1.89972783e-11, 7.59891130e-12, 1.26648522e-12]),\n",
      "array([  1.        ,  -5.91908204,  14.59867754, -19.20380635,\n",
      "        14.2101756 ,  -5.6082321 ,   0.92226735]),\n",
      "dt: True\n",
      ")\n",
      "ZerosPolesGainDiscrete(\n",
      "array([-1.00296841+0.j        , -1.00148317+0.00257069j,\n",
      "       -1.00148317-0.00257069j, -0.99851584+0.00256896j,\n",
      "       -0.99851584-0.00256896j, -0.99703359+0.j        ]),\n",
      "array([0.99439072+0.02011853j, 0.99439072-0.02011853j,\n",
      "       0.98519414+0.01459194j, 0.98519414-0.01459194j,\n",
      "       0.97995615+0.00531584j, 0.97995615-0.00531584j]),\n",
      "1.266485216936955e-12,\n",
      "dt: True\n",
      ")\n"
     ]
    },
    {
     "data": {
      "image/png": "[encoded data removed]",
      "text/plain": [
       "<Figure size 432x288 with 1 Axes>"
      ]
     },
     "metadata": {
      "needs_background": "light"
     },
     "output_type": "display_data"
    }
   ],
   "source": [
    "ordem = 6\n",
    "wc = 2*np.pi/3\n",
    "fs = 100\n",
    "filts = signal.lti(*signal.butter(ordem, wc, btype='lowpass', analog=True, output='ba'))\n",
    "filtz = signal.dlti(*signal.bilinear(filts.num, filts.den, fs))\n",
    "wz, hz = signal.freqz(filtz.num, filtz.den)\n",
    "plt.semilogx(wz*1/(2*np.pi), 20*np.log10(np.abs(hz).clip(1e-15)),label=r'$|H_z(e^{j \\omega})|$')\n",
    "plt.legend()\n",
    "plt.xlabel('Frequency [Hz]')\n",
    "plt.ylabel('Magnitude [dB]')\n",
    "plt.grid()\n",
    "print(filts)\n",
    "print(filtz)\n",
    "print(signal.dlti(*signal.tf2zpk(filtz.num, filtz.den)))\n"
   ]
  },
  {
   "cell_type": "code",
   "execution_count": 213,
   "metadata": {},
   "outputs": [
    {
     "name": "stdout",
     "output_type": "stream",
     "text": [
      "ZerosPolesGainContinuous(\n",
      "array([0]),\n",
      "array([0.99439072+0.02011853j]),\n",
      "1,\n",
      "dt: None\n",
      ")\n",
      "[1 0 1 0 1 0]\n",
      "ZerosPolesGainContinuous(\n",
      "array([0]),\n",
      "array([0.99439072-0.02011853j]),\n",
      "1,\n",
      "dt: None\n",
      ")\n",
      "[ 1.        +0.j          0.98999078+0.03434137j  4.38615134+0.16667946j\n",
      " 10.13210223+0.66893062j 29.05847289+2.37880798j 76.68949682+7.98891203j]\n",
      "ZerosPolesGainContinuous(\n",
      "array([0]),\n",
      "array([0.98519414+0.01459194j]),\n",
      "1,\n",
      "dt: None\n",
      ")\n",
      "[  1.        +0.j           2.68607679+0.00463324j\n",
      "  13.07816418+0.02504293j  45.19572047+0.10150522j\n",
      " 154.59471546+0.36566244j 499.49912289+1.23476681j]\n",
      "ZerosPolesGainContinuous(\n",
      "array([0]),\n",
      "array([0.98519414-0.01459194j]),\n",
      "1,\n",
      "dt: None\n",
      ")\n",
      "[1.00000000e+00+0.00000000e+00j 5.55017587e+00+7.13157943e-02j\n",
      " 3.25632490e+01+5.92693424e-01j 1.41893211e+02+3.45379880e+00j\n",
      " 5.66216721e+02+1.68241347e+01j 2.10322211e+03+7.36439551e+01j]\n",
      "ZerosPolesGainContinuous(\n",
      "array([0]),\n",
      "array([0.97995615+0.00531584j]),\n",
      "1,\n",
      "dt: None\n",
      ")\n",
      "[1.00000000e+00 +0.j         1.04302045e+01 +0.01671173j\n",
      " 7.39569525e+01 +0.13529363j 3.84348038e+02 +0.7674317j\n",
      " 1.75235112e+03 +3.68461201j 7.31209854e+03+15.98557024j]\n",
      "ZerosPolesGainContinuous(\n",
      "array([0]),\n",
      "array([0.97995615-0.00531584j]),\n",
      "1,\n",
      "dt: None\n",
      ")\n",
      "[1.00000000e+00+0.00000000e+00j 1.86802050e+01+9.19590954e-02j\n",
      " 1.57659799e+02+1.04384628e+00j 9.47194569e+02+7.71409844e+00j\n",
      " 4.84686511e+03+4.60905691e+01j 2.23553108e+04+2.41470035e+02j]\n",
      "ZerosPolesGainContinuous(\n",
      "array([-1.00296841+0.j]),\n",
      "array([0]),\n",
      "1,\n",
      "dt: None\n",
      ")\n",
      "[1.00000000e+00+0.00000000e+00j 3.26923403e+01+4.93752460e-02j\n",
      " 3.23146933e+02+5.56944936e-01j 2.20192716e+03+4.09858779e+00j\n",
      " 1.24899470e+04+2.44773509e+01j 6.30142039e+04+1.28402880e+02j]\n",
      "ZerosPolesGainContinuous(\n",
      "array([-1.00148317+0.00257069j]),\n",
      "array([0]),\n",
      "1,\n",
      "dt: None\n",
      ")\n",
      "[1.00000000e+00+0.00000000e+00j 4.95885168e+01+4.93752460e-02j\n",
      " 5.18490885e+02+5.56944936e-01j 3.66355588e+03+4.09858779e+00j\n",
      " 2.13193185e+04+2.44773509e+01j 1.09707714e+05+1.28402880e+02j]\n",
      "ZerosPolesGainContinuous(\n",
      "array([-1.00148317-0.00257069j]),\n",
      "array([0]),\n",
      "1,\n",
      "dt: None\n",
      ")\n",
      "[1.00000000e+00+0.00000000e+00j 7.49202907e+01-1.56485199e-02j\n",
      " 8.28283637e+02-2.38257621e-01j 6.06747335e+03-2.07199335e+00j\n",
      " 3.62332000e+04-1.38048769e+01j 1.90232280e+05-7.82944679e+01j]\n",
      "ZerosPolesGainContinuous(\n",
      "array([-0.99851584+0.00256896j]),\n",
      "array([0]),\n",
      "1,\n",
      "dt: None\n",
      ")\n",
      "[1.00000000e+00+0.00000000e+00j 1.12936737e+02+8.19353494e-02j\n",
      " 1.31857185e+03+1.02025613e+00j 1.00107538e+04+8.04995654e+00j\n",
      " 6.13581866e+04+5.06880896e+01j 3.28757949e+05+2.77285079e+02j]\n",
      "ZerosPolesGainContinuous(\n",
      "array([-0.99851584-0.00256896j]),\n",
      "array([0]),\n",
      "1,\n",
      "dt: None\n",
      ")\n",
      "[1.00000000e+00+0.00000000e+00j 1.69820555e+02-6.44143284e-02j\n",
      " 2.09014766e+03-9.64840429e-01j 1.64385852e+04-8.48745389e+00j\n",
      " 1.03417527e+05-5.75214338e+01j 5.65585859e+05-3.32021564e+02j]\n",
      "ZerosPolesGainContinuous(\n",
      "array([-0.99703359+0.j]),\n",
      "array([0]),\n",
      "1,\n",
      "dt: None\n",
      ")\n",
      "[1.00000000e+00+0.00000000e+00j 2.55104070e+02+1.55001585e-01j\n",
      " 3.30373820e+03+2.15746378e+00j 2.69027923e+04+1.84346725e+01j\n",
      " 1.73720847e+05+1.23353700e+02j 9.69894417e+05+7.08176316e+02j]\n"
     ]
    },
    {
     "name": "stderr",
     "output_type": "stream",
     "text": [
      "/home/osmar/.local/lib/python3.8/site-packages/scipy/signal/ltisys.py:2165: ComplexWarning: Casting complex values to real discards the imaginary part\n",
      "  xout[i] = (dot(xout[i-1], Ad) + dot(U[i-1], Bd0) + dot(U[i], Bd1))\n",
      "/home/osmar/.local/lib/python3.8/site-packages/matplotlib/cbook/__init__.py:1333: ComplexWarning: Casting complex values to real discards the imaginary part\n",
      "  return np.asarray(x, float)\n"
     ]
    },
    {
     "data": {
      "text/plain": [
       "[<matplotlib.lines.Line2D at 0x7f89ca314ac0>]"
      ]
     },
     "execution_count": 213,
     "metadata": {},
     "output_type": "execute_result"
    },
    {
     "data": {
      "image/png": "[encoded data removed]",
      "text/plain": [
       "<Figure size 432x288 with 1 Axes>"
      ]
     },
     "metadata": {
      "needs_background": "light"
     },
     "output_type": "display_data"
    },
    {
     "data": {
      "image/png": "[encoded data removed]",
      "text/plain": [
       "<Figure size 432x288 with 1 Axes>"
      ]
     },
     "metadata": {
      "needs_background": "light"
     },
     "output_type": "display_data"
    }
   ],
   "source": [
    "### Para fazer a forma cascata ###\n",
    "# Iniciar com sistema em formato zpk\n",
    "######################################################################################\n",
    "ordem = 6\n",
    "wc = 2*np.pi/3\n",
    "fs = 100\n",
    "filts = signal.lti(*signal.butter(ordem, wc, btype='lowpass', analog=True, output='ba'))\n",
    "filtz = signal.dlti(*signal.bilinear(filts.num, filts.den, fs))\n",
    "####################################################################################3\n",
    "siszpk = signal.dlti(*signal.tf2zpk(filtz.num, filtz.den))\n",
    "### Polos\n",
    "filterList = []\n",
    "for i in siszpk.poles:\n",
    "    filterList.append(signal.ZerosPolesGain(0, [i], 1))\n",
    "for i in siszpk.zeros:\n",
    "    filterList.append(signal.ZerosPolesGain([i], 0, 1))\n",
    "### Exemplo ####\n",
    "wz, hz = signal.freqz_zpk(filterList[0].zeros, filterList[0].poles, filterList[0].gain, fs=100)\n",
    "plt.semilogx(wz*1/(2*np.pi), 20*np.log10(np.abs(hz).clip(1e-15)),label=r'$|H_z(e^{j \\omega})|$')\n",
    "plt.legend()\n",
    "plt.xlabel('Frequency [Hz]')\n",
    "plt.ylabel('Magnitude [dB]')\n",
    "plt.grid()\n",
    "\n",
    "x = np.array([1, 0, 1, 0, 1, 0]) # colocar sinal de entrada aqui\n",
    "for i in filterList:\n",
    "    print(i)\n",
    "    print(x)\n",
    "    tout, x, xout = i.output(x, [1, 2, 3, 4, 5, 6])\n",
    "plt.figure(2)\n",
    "plt.plot(x)\n"
   ]
  }
 ],
 "metadata": {
  "interpreter": {
   "hash": "aee8b7b246df8f9039afb4144a1f6fd8d2ca17a180786b69acc140d282b71a49"
  },
  "kernelspec": {
   "display_name": "Python 3.8.9 64-bit",
   "name": "python3"
  },
  "language_info": {
   "codemirror_mode": {
    "name": "ipython",
    "version": 3
   },
   "file_extension": ".py",
   "mimetype": "text/x-python",
   "name": "python",
   "nbconvert_exporter": "python",
   "pygments_lexer": "ipython3",
   "version": "3.8.9"
  },
  "orig_nbformat": 4
 },
 "nbformat": 4,
 "nbformat_minor": 2
}
